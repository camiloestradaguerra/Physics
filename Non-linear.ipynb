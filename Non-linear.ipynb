{
 "cells": [
  {
   "cell_type": "code",
   "execution_count": 1,
   "metadata": {},
   "outputs": [],
   "source": [
    "import numpy as np\n",
    "from odeintw import odeintw\n",
    "import matplotlib.pyplot as plt"
   ]
  },
  {
   "cell_type": "code",
   "execution_count": 3,
   "metadata": {},
   "outputs": [
    {
     "data": {
      "image/png": "[encoded data removed]",
      "text/plain": [
       "<Figure size 432x288 with 1 Axes>"
      ]
     },
     "metadata": {
      "needs_background": "light"
     },
     "output_type": "display_data"
    }
   ],
   "source": [
    "##############\n",
    "# PARAMETERS #\n",
    "##############\n",
    "\n",
    "pi = np.pi\n",
    "delta_a = 0\n",
    "delta_c = 0\n",
    "g = 25*2*pi*1e-3\n",
    "Omega_0 = 50*2*pi*1e-3\n",
    "k_a = 29*2*pi*1e-3\n",
    "gamma = 1*2*pi*1e-3\n",
    "N_max = 15\n",
    "dim = (2)*(N_max+1)\n",
    "t0 = 10\n",
    "F = 5\n",
    "sigma = 0.42466090014400953*F\n",
    "#Omega = np.exp(-0.5*((t-t0)/sigma)**2)\n",
    "\n",
    "\n",
    "##############################\n",
    "# MATRIX BASIS  AND OPERATORS#\n",
    "##############################\n",
    "\n",
    "gs_k = np.array([[1],[0]])\n",
    "gs_b = gs_k.transpose()\n",
    "es_k = np.array([[0],[1]])\n",
    "es_b = es_k.transpose()\n",
    "\n",
    "ident2 = np.identity(2)\n",
    "ident_Fock = np.identity(N_max+1)\n",
    "\n",
    "def delta_k(n,m):\n",
    "    if n == m:\n",
    "        return 1\n",
    "    if n != m:\n",
    "        return 0\n",
    "\n",
    "def a_op():\n",
    "    a_OP = np.array([], dtype=np.complex128)\n",
    "    for m in range(0, N_max+1):\n",
    "        for n in range(0, N_max+1):\n",
    "            a_OP = np.append(a_OP, np.sqrt(n)*delta_k(m,n-1))\n",
    "    a_OP = a_OP.reshape((N_max+1, N_max+1))\n",
    "    return a_OP\n",
    "\n",
    "def ad_op():\n",
    "    ad_OP = np.array([], dtype=np.complex128)\n",
    "    for m in range(0, N_max+1):\n",
    "        for n in range(0, N_max+1):\n",
    "            ad_OP = np.append(ad_OP, np.sqrt(n+1)*delta_k(m,n+1))\n",
    "    ad_OP = ad_OP.reshape((N_max+1, N_max+1))\n",
    "    return ad_OP\n",
    "\n",
    "sigma_p = np.array([[0,0],[1,0]], dtype=np.complex128)\n",
    "sigma_m = np.array([[0,1],[0,0]], dtype=np.complex128)\n",
    "sigma_z = np.array([[-1,0],[0,1]], dtype=np.complex128)\n",
    "\n",
    "###################\n",
    "# Temporal scales #\n",
    "###################\n",
    "\n",
    "t_50 = np.linspace(0, 60, 301)\n",
    "\n",
    "###############\n",
    "# HAMILTONIAN #\n",
    "###############\n",
    "\n",
    "def hamilt(t):\n",
    "    term1 = delta_c*np.kron(np.dot(ad_op(), a_op()), ident2)\n",
    "    term2 = delta_a*np.kron(ident_Fock, np.dot(sigma_p, sigma_m))\n",
    "    term3 = (1j)*g*(np.kron(ad_op(), sigma_m)-np.kron(a_op(),sigma_p))\n",
    "    term4 = (1j)*np.sqrt(k_a)*(np.kron(a_op(), ident2)-np.kron(ad_op(), ident2))\n",
    "    ham = term1 + term2 + term3 + Omega_0*np.exp(-0.5*((t-t0)/sigma)**2) * term4\n",
    "    return ham\n",
    "\n",
    "###############\n",
    "# GAUSSIAN EM #\n",
    "###############\n",
    "\n",
    "def gauss_field(t, F):\n",
    "    t0 = 10\n",
    "    sigma = 0.42466090014400953*F\n",
    "    Omega = np.exp(-0.5*((t-t0)/sigma)**2)\n",
    "    return Omega\n",
    "\n",
    "##########################\n",
    "# FREQUENCY OF THE LASER #\n",
    "##########################\n",
    "\n",
    "Omega = Omega_0*gauss_field(t_50,5)\n",
    "\n",
    "#####################\n",
    "# INITIAL CONDITION #\n",
    "#####################\n",
    "\n",
    "rho_init_1 = np.zeros((dim,dim), dtype=np.complex128)\n",
    "rho_init_1[0,0] = 1 + 0j\n",
    "\n",
    "rho_init_2 = np.zeros((dim,dim), dtype=np.complex128)\n",
    "rho_init_2[1,1] = 1 + 0j\n",
    "\n",
    "\n",
    "#######################################\n",
    "# RIGHT SIDE OF THE LINDBLAD EQUATION #\n",
    "#######################################\n",
    "\n",
    "def right_part(rho, t):\n",
    "    HAM = hamilt(t)\n",
    "    term1 = -(1j)*(np.dot(HAM, rho) - np.dot(rho, HAM))\n",
    "    term2 = k_a*(2*np.dot(np.dot(np.kron(a_op(), ident2), rho), np.kron(ad_op(), ident2)) - np.dot(np.kron(np.dot(ad_op(), a_op()), ident2), rho) - np.dot(rho, np.kron(np.dot(ad_op(), a_op()), ident2)))\n",
    "    term3 = gamma*(2*np.dot(np.dot(np.kron(ident_Fock, sigma_m), rho), np.kron(ident_Fock, sigma_p)) - np.dot(np.kron(ident_Fock, np.dot(sigma_p, sigma_m)), rho) - np.dot(rho, np.kron(ident_Fock, np.dot(sigma_p, sigma_m))))\n",
    "    \n",
    "    return term1 + term2 + term3 \n",
    "\n",
    "######################################\n",
    "# Solutions of the Lindblad Equation #\n",
    "######################################\n",
    "\n",
    "sol_50 = odeintw(right_part, rho_init_2, t_50)\n",
    "\n",
    "##########################################################################\n",
    "# Getting the population elements of the reduced density matrix solution #\n",
    "##########################################################################\n",
    "\n",
    "p11_50 = np.array([])\n",
    "for i in range(0,len(sol_50)):\n",
    "    p11_50 =np.append(p11_50, sol_50[i,0,0])    \n",
    "\n",
    "p22_50 = np.array([])\n",
    "for i in range(0,len(sol_50)):\n",
    "    p22_50 =np.append(p22_50, sol_50[i,1,1])    \n",
    "\n",
    "p33_50 = np.array([])\n",
    "for i in range(0,len(sol_50)):\n",
    "    p33_50 =np.append(p33_50, sol_50[i,2,2]) \n",
    "\n",
    "#########    \n",
    "# PLOTS #   \n",
    "#########\n",
    "\n",
    "plt.plot(t_50, p33_50.real)\n",
    "#plt.plot(t_50, Omega)\n",
    "plt.show()"
   ]
  },
  {
   "cell_type": "code",
   "execution_count": 4,
   "metadata": {},
   "outputs": [],
   "source": [
    "photon_number_op = np.kron(np.dot(ad_op(), a_op()), ident2)\n",
    "mean_photon_number = np.dot(sol_50, photon_number_op)\n",
    "cavity_transmission = np.array([])\n",
    "for i in range(0,len(sol_50)):\n",
    "    cavity_transmission = np.append(cavity_transmission, np.trace(mean_photon_number[i]).real)"
   ]
  },
  {
   "cell_type": "code",
   "execution_count": 5,
   "metadata": {},
   "outputs": [
    {
     "data": {
      "image/png": "[encoded data removed]",
      "text/plain": [
       "<Figure size 432x288 with 1 Axes>"
      ]
     },
     "metadata": {
      "needs_background": "light"
     },
     "output_type": "display_data"
    }
   ],
   "source": [
    "plt.plot(t_50, cavity_transmission)\n",
    "plt.xlabel(\"Time\",size=15)\n",
    "plt.ylabel(\"Cavity Transmission\",size=15)\n",
    "plt.grid()\n",
    "plt.show()"
   ]
  },
  {
   "cell_type": "code",
   "execution_count": null,
   "metadata": {},
   "outputs": [],
   "source": [
    "p11_50"
   ]
  },
  {
   "cell_type": "code",
   "execution_count": null,
   "metadata": {},
   "outputs": [],
   "source": [
    "hamilt(0.2).shape"
   ]
  },
  {
   "cell_type": "code",
   "execution_count": null,
   "metadata": {},
   "outputs": [],
   "source": [
    "np.kron(ad_op(), ident2).real"
   ]
  },
  {
   "cell_type": "code",
   "execution_count": null,
   "metadata": {},
   "outputs": [],
   "source": [
    "t_50"
   ]
  },
  {
   "cell_type": "code",
   "execution_count": null,
   "metadata": {},
   "outputs": [],
   "source": []
  },
  {
   "cell_type": "code",
   "execution_count": null,
   "metadata": {},
   "outputs": [],
   "source": []
  }
 ],
 "metadata": {
  "kernelspec": {
   "display_name": "Python 3",
   "language": "python",
   "name": "python3"
  },
  "language_info": {
   "codemirror_mode": {
    "name": "ipython",
    "version": 3
   },
   "file_extension": ".py",
   "mimetype": "text/x-python",
   "name": "python",
   "nbconvert_exporter": "python",
   "pygments_lexer": "ipython3",
   "version": "3.8.5"
  }
 },
 "nbformat": 4,
 "nbformat_minor": 4
}
